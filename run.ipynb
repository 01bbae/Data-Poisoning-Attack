{
 "cells": [
  {
   "cell_type": "markdown",
   "metadata": {},
   "source": [
    "# Data Poisoning using Clean Label Attack"
   ]
  },
  {
   "cell_type": "markdown",
   "metadata": {},
   "source": [
    "## Hypothesis"
   ]
  },
  {
   "cell_type": "markdown",
   "metadata": {},
   "source": [
    "The paper, \"Poison Frogs! Clean-Label Attacks on Neural Networks\", it demonstrates how to pull off a clean-label data poisoning attack. In this notebook we try to replicate this type of attack. We prepose that, like in the paper, neural networks are vulnerable to this type of attack as seen in the paper."
   ]
  },
  {
   "cell_type": "markdown",
   "metadata": {},
   "source": [
    "## Method"
   ]
  },
  {
   "cell_type": "markdown",
   "metadata": {},
   "source": [
    "We take a pretrained resnet18 model and poison a CIFAR10 dataset by picking a base image and a target image by following the implementation of Algorithm 1 as outlined in the paper.\n",
    "\n",
    "To see if the Algorithm worked, we perform a sanity check to see if the new poisoned image is misclassified by the pretrained model.\n",
    "We save a copy of the dataset with the poisoned image removed to add the poisoned data later into when training another resnet18 model.\n",
    "\n",
    "To train the new resnet18 model, we inject the poison image into the previous dataset with the poison image removed and train the model on that training data.\n",
    "\n",
    "We next check if the new resnet model classifies the poisoned image according to its original label rather than the target label. If this is successful, then we successfully implemented a hidden backdoor into the model using the clean-label attack."
   ]
  },
  {
   "cell_type": "markdown",
   "metadata": {},
   "source": [
    "## Experimental Settings"
   ]
  },
  {
   "cell_type": "markdown",
   "metadata": {},
   "source": [
    "The pretrained model used Adam as the optimizer and the loss function for the mask generator uses MSE Loss. The poisoned model uses Adam and Cross Entropy Loss. The hyperparameters of the mask generator was decided naively. The learning rate (lamda) as outlined in the Algorithm 1 of the paper was set to 0.0001, the perturbation amount (beta) was set to 0.0000001 and the max iterations was set to 1000. A higher lamda and beta was also tried, both set to 0.001 with the same max iterations, but it did not have much of an impact on the appearance of the mask. The max iterations might be the bottleneck when it comes to finding the optimal mask or CIFAR10 images are so low resolution that it does not take a lot of iterations to find the best mask."
   ]
  },
  {
   "cell_type": "code",
   "execution_count": 38,
   "metadata": {},
   "outputs": [],
   "source": [
    "import torch\n",
    "from torchvision.datasets import CIFAR10\n",
    "from torchvision.transforms.functional import to_pil_image\n",
    "import torchvision.transforms as transforms\n",
    "from torch.utils.data import DataLoader, Dataset, Subset, ConcatDataset\n",
    "import torch.nn as nn\n",
    "import torch.optim as optim\n",
    "import matplotlib.pyplot as plt\n",
    "from tqdm import tqdm\n",
    "import detectors\n",
    "import timm\n",
    "import logging"
   ]
  },
  {
   "cell_type": "code",
   "execution_count": 39,
   "metadata": {},
   "outputs": [
    {
     "data": {
      "text/plain": [
       "<torch._C.Generator at 0x126d73d10>"
      ]
     },
     "execution_count": 39,
     "metadata": {},
     "output_type": "execute_result"
    }
   ],
   "source": [
    "torch.manual_seed(42)"
   ]
  },
  {
   "cell_type": "code",
   "execution_count": 40,
   "metadata": {},
   "outputs": [
    {
     "name": "stdout",
     "output_type": "stream",
     "text": [
      "Files already downloaded and verified\n",
      "Files already downloaded and verified\n"
     ]
    }
   ],
   "source": [
    "transform = transforms.Compose([\n",
    "    transforms.ToTensor(),\n",
    "    transforms.Normalize([0.485, 0.456, 0.406], [0.229, 0.224, 0.225])\n",
    "])\n",
    "\n",
    "\n",
    "cifar_train = CIFAR10(\"./data\", train=True, download=True, transform=transform)\n",
    "cifar_test = CIFAR10(\"./data\", train=False, download=True, transform=transform)"
   ]
  },
  {
   "cell_type": "code",
   "execution_count": 41,
   "metadata": {},
   "outputs": [],
   "source": [
    "labels = [\"airplane\", \"automobile\", \"bird\", \"cat\", \"deer\", \"dog\", \"frog\", \"horse\", \"ship\", \"truck\"]"
   ]
  },
  {
   "cell_type": "code",
   "execution_count": 42,
   "metadata": {},
   "outputs": [],
   "source": [
    "device = torch.device('cpu')"
   ]
  },
  {
   "cell_type": "code",
   "execution_count": 43,
   "metadata": {},
   "outputs": [
    {
     "name": "stdout",
     "output_type": "stream",
     "text": [
      "bird\n",
      "frog\n"
     ]
    }
   ],
   "source": [
    "# grab random indicies for sample and target images\n",
    "base_index = int(torch.rand(1)*len(cifar_train))\n",
    "target_index = int(torch.rand(1)*len(cifar_train))\n",
    "\n",
    "base_label_index = cifar_train[base_index][1]\n",
    "target_label_index = cifar_train[target_index][1]\n",
    "\n",
    "base_label = labels[base_label_index]\n",
    "target_label = labels[target_label_index]\n",
    "print(base_label)\n",
    "print(target_label)\n",
    "\n",
    "# retry a new sample if sample class is the same as target class\n",
    "while base_label == target_label:\n",
    "    base_index = int(torch.rand(1)*len(cifar_train))\n",
    "    base_label = labels[cifar_train[base_index][1]]"
   ]
  },
  {
   "cell_type": "code",
   "execution_count": 44,
   "metadata": {},
   "outputs": [
    {
     "name": "stdout",
     "output_type": "stream",
     "text": [
      "torch.Size([1, 3, 32, 32])\n"
     ]
    }
   ],
   "source": [
    "base_image = cifar_train[base_index][0]\n",
    "base_image = base_image[None,:,:,:]\n",
    "target_image = cifar_train[target_index][0]\n",
    "target_image = target_image[None,:,:,:]\n",
    "\n",
    "print(base_image.shape)"
   ]
  },
  {
   "cell_type": "code",
   "execution_count": 45,
   "metadata": {},
   "outputs": [],
   "source": [
    "# Create a subset of the data with the base image removed (for implanting poison image later)\n",
    "indices = list(range(0, len(cifar_train)))\n",
    "\n",
    "indices.remove(base_index)\n",
    "\n",
    "no_poison_cifar_train = Subset(cifar_train, indices)"
   ]
  },
  {
   "cell_type": "code",
   "execution_count": 46,
   "metadata": {},
   "outputs": [],
   "source": [
    "cifar_train_loader = DataLoader(cifar_train, batch_size=1, shuffle=True)\n",
    "cifar_test_loader = DataLoader(cifar_test, batch_size=1, shuffle=True)"
   ]
  },
  {
   "cell_type": "code",
   "execution_count": 47,
   "metadata": {},
   "outputs": [],
   "source": [
    "# restores the tensors to their original scale\n",
    "def denorm(batch, mean=[0.485, 0.456, 0.406], std=[0.229, 0.224, 0.225]):\n",
    "    \"\"\"\n",
    "    Convert a batch of tensors to their original scale.\n",
    "\n",
    "    Args:\n",
    "        batch (torch.Tensor): Batch of normalized tensors.\n",
    "        mean (torch.Tensor or list): Mean used for normalization.\n",
    "        std (torch.Tensor or list): Standard deviation used for normalization.\n",
    "\n",
    "    Returns:\n",
    "        torch.Tensor: batch of tensors without normalization applied to them.\n",
    "    \"\"\"\n",
    "    if isinstance(mean, list):\n",
    "        mean = torch.tensor(mean).to(device)\n",
    "    if isinstance(std, list):\n",
    "        std = torch.tensor(std).to(device)\n",
    "\n",
    "    return batch * std.view(1, -1, 1, 1) + mean.view(1, -1, 1, 1)"
   ]
  },
  {
   "cell_type": "markdown",
   "metadata": {},
   "source": [
    "### Show sample image and label"
   ]
  },
  {
   "cell_type": "code",
   "execution_count": 48,
   "metadata": {},
   "outputs": [
    {
     "data": {
      "text/plain": [
       "<matplotlib.image.AxesImage at 0x2bf746680>"
      ]
     },
     "execution_count": 48,
     "metadata": {},
     "output_type": "execute_result"
    },
    {
     "data": {
      "image/png": "[encoded data removed]",
      "text/plain": [
       "<Figure size 640x480 with 1 Axes>"
      ]
     },
     "metadata": {},
     "output_type": "display_data"
    }
   ],
   "source": [
    "def format_img(image):\n",
    "    image = torch.squeeze(image)\n",
    "    image = torch.permute(image, (1,2,0))\n",
    "    return image\n",
    "\n",
    "plt.title(base_label)\n",
    "plt.imshow(format_img(denorm(base_image)))"
   ]
  },
  {
   "cell_type": "code",
   "execution_count": 49,
   "metadata": {},
   "outputs": [],
   "source": [
    "model = timm.create_model(\"resnet18_cifar10\", pretrained=True)\n",
    "\n",
    "# L2 Norm Squared\n",
    "loss_fn = torch.nn.MSELoss(reduction=\"sum\")\n",
    "optimizer = optim.Adam(model.parameters())"
   ]
  },
  {
   "cell_type": "code",
   "execution_count": 50,
   "metadata": {},
   "outputs": [],
   "source": [
    "def mask_generation(base_img, target_img, lr, beta, max_iter):\n",
    "    model.eval()\n",
    "    masked_img = base_img\n",
    "    for i in tqdm(range(max_iter)):\n",
    "        masked_img.requires_grad = True\n",
    "        optimizer.zero_grad()\n",
    "        mask_pred = model(masked_img)\n",
    "        target_pred = model(target_img)\n",
    "        loss = loss_fn(mask_pred, target_pred)\n",
    "        loss.backward()\n",
    "        masked_img.requires_grad = False\n",
    "        mask_step = masked_img - lr * masked_img.grad.data\n",
    "        masked_img = (mask_step + lr * beta * base_img) / (1 + beta * lr)\n",
    "        masked_img = torch.clamp(masked_img, 0, 1)\n",
    "    mask = masked_img - base_image\n",
    "    return mask, masked_img"
   ]
  },
  {
   "cell_type": "code",
   "execution_count": 51,
   "metadata": {},
   "outputs": [
    {
     "name": "stderr",
     "output_type": "stream",
     "text": [
      "100%|██████████| 1000/1000 [01:06<00:00, 14.95it/s]\n"
     ]
    },
    {
     "data": {
      "image/png": "[encoded data removed]",
      "text/plain": [
       "<Figure size 800x800 with 3 Axes>"
      ]
     },
     "metadata": {},
     "output_type": "display_data"
    }
   ],
   "source": [
    "output = model(base_image)\n",
    "output_label = labels[torch.argmax(output, dim=1)]\n",
    "\n",
    "if output_label != base_label:\n",
    "    logging.error(f\"Model is misclassifying the base image as {output_label}. Please try with another image\")\n",
    "    exit(-1)\n",
    "while output_label != target_label:\n",
    "    beta = 0.0000001\n",
    "    lr = 0.0001\n",
    "    iters = 1000\n",
    "    mask, masked_image = mask_generation(base_image, target_image, lr, beta, iters)\n",
    "    beta*=10\n",
    "    output = model(masked_image)\n",
    "    output_label = labels[torch.argmax(output, dim=1)]\n",
    "    # lr*=10\n",
    "\n",
    "w = 10\n",
    "h = 10\n",
    "fig = plt.figure(figsize=(8, 8))\n",
    "columns = 3\n",
    "rows = 1\n",
    "\n",
    "fig.add_subplot(rows, columns, 1) \n",
    "plt.title(\"original image\")\n",
    "plt.imshow(format_img(denorm(base_image)))\n",
    "\n",
    "fig.add_subplot(rows, columns, 2) \n",
    "plt.title(\"mask\")\n",
    "plt.imshow(format_img(denorm(mask)))\n",
    "\n",
    "fig.add_subplot(rows, columns, 3)\n",
    "plt.title(\"masked image\")\n",
    "plt.imshow(format_img(denorm(masked_image)))\n",
    "plt.show()\n"
   ]
  },
  {
   "cell_type": "code",
   "execution_count": 52,
   "metadata": {},
   "outputs": [
    {
     "data": {
      "text/plain": [
       "<matplotlib.image.AxesImage at 0x28bd36bc0>"
      ]
     },
     "execution_count": 52,
     "metadata": {},
     "output_type": "execute_result"
    },
    {
     "data": {
      "image/png": "[encoded data removed]",
      "text/plain": [
       "<Figure size 640x480 with 1 Axes>"
      ]
     },
     "metadata": {},
     "output_type": "display_data"
    }
   ],
   "source": [
    "output = model(masked_image)\n",
    "output_label = labels[torch.argmax(output, dim=1)]\n",
    "\n",
    "plt.title(output_label)\n",
    "plt.imshow(format_img(denorm(masked_image)))"
   ]
  },
  {
   "cell_type": "markdown",
   "metadata": {},
   "source": [
    "### \"On a clean model, this poison instance would be misclassified as a target.\""
   ]
  },
  {
   "cell_type": "markdown",
   "metadata": {},
   "source": [
    "### \"If the model is retrained on the clean data + poison instances, however, the linear decision boundary in feature space is expected to rotate to label the poison instance as if it were in the base class.\""
   ]
  },
  {
   "cell_type": "code",
   "execution_count": 53,
   "metadata": {},
   "outputs": [],
   "source": [
    "new_model = timm.create_model(\"resnet18_cifar10\", pretrained=False)\n",
    "\n",
    "new_loss_fn = nn.CrossEntropyLoss()\n",
    "new_optimizer = optim.Adam(new_model.parameters())"
   ]
  },
  {
   "cell_type": "markdown",
   "metadata": {},
   "source": [
    "### Add poison data into dataset"
   ]
  },
  {
   "cell_type": "code",
   "execution_count": 54,
   "metadata": {},
   "outputs": [],
   "source": [
    "def format_img_for_save(image):\n",
    "    image = torch.squeeze(image)\n",
    "    torch.permute(image, (2, 1, 0))\n",
    "    print(image.shape)\n",
    "    return image"
   ]
  },
  {
   "cell_type": "code",
   "execution_count": 55,
   "metadata": {},
   "outputs": [
    {
     "name": "stdout",
     "output_type": "stream",
     "text": [
      "torch.Size([3, 32, 32])\n",
      "torch.Size([])\n"
     ]
    }
   ],
   "source": [
    "# Save poison image to folder\n",
    "path = \"./data/poison.jpg\"\n",
    "image = to_pil_image(format_img_for_save(denorm(masked_image)))\n",
    "image.save(path)\n",
    "print(torch.tensor(base_label_index).shape)\n",
    "torch.save(torch.tensor(base_label_index), './data/label.pt')\n",
    "torch.save(torch.squeeze(denorm(masked_image)), './data/image.pt')\n"
   ]
  },
  {
   "cell_type": "code",
   "execution_count": 60,
   "metadata": {},
   "outputs": [],
   "source": [
    "class PoisonDataset(Dataset):\n",
    "    \"\"\"Poisoned dataset.\"\"\"\n",
    "\n",
    "    def __init__(self, root_dir, transform=None):\n",
    "        \"\"\"\n",
    "        Arguments:\n",
    "            root_dir (string): Directory with all the tensors.\n",
    "            transform (callable, optional): Optional transform to be applied\n",
    "                on a sample.\n",
    "        \"\"\"\n",
    "        self.image_tensor = torch.load(root_dir + \"/image.pt\")\n",
    "        self.label = torch.load(root_dir + \"/label.pt\")\n",
    "        self.root_dir = root_dir\n",
    "        self.transform = transform\n",
    "\n",
    "    def __len__(self):\n",
    "        return 1\n",
    "\n",
    "    def __getitem__(self, idx):\n",
    "        \n",
    "        if torch.is_tensor(idx):\n",
    "            idx = idx.tolist()\n",
    "        if self.transform:\n",
    "            self.image_tensor = self.transform(self.image_tensor)\n",
    "        # self.image_tensor = torch.permute(self.image_tensor, (1, 2, 0))\n",
    "        # plt.imshow(self.image_tensor)\n",
    "        return self.image_tensor, self.label"
   ]
  },
  {
   "cell_type": "code",
   "execution_count": 61,
   "metadata": {},
   "outputs": [
    {
     "name": "stdout",
     "output_type": "stream",
     "text": [
      "1\n",
      "50000\n"
     ]
    }
   ],
   "source": [
    "poison_transform = transforms.Compose([\n",
    "    transforms.Normalize([0.485, 0.456, 0.406], [0.229, 0.224, 0.225])\n",
    "])\n",
    "poison_data = PoisonDataset(\"./data\", transform=poison_transform)\n",
    "poison_test_loader = DataLoader(poison_data, batch_size=1, shuffle=True)\n",
    "print(len(poison_data))\n",
    "poison_cifar = ConcatDataset([poison_data, no_poison_cifar_train])\n",
    "print(len(poison_cifar))\n",
    "poison_loader = DataLoader(poison_cifar, batch_size=1, shuffle=True)"
   ]
  },
  {
   "cell_type": "markdown",
   "metadata": {},
   "source": [
    "### Train Poisoned Model"
   ]
  },
  {
   "cell_type": "code",
   "execution_count": 62,
   "metadata": {},
   "outputs": [],
   "source": [
    "def train_model(model, data_loader, epoch):\n",
    "    for i in range(epoch):\n",
    "        print(\"Epoch\", i)\n",
    "        for image, label in tqdm(data_loader):\n",
    "            new_optimizer.zero_grad()\n",
    "            output_softmax = model(image)\n",
    "            loss = new_loss_fn(output_softmax, label)\n",
    "            loss.backward()\n",
    "            new_optimizer.step()\n",
    "    return model"
   ]
  },
  {
   "cell_type": "code",
   "execution_count": 63,
   "metadata": {},
   "outputs": [
    {
     "name": "stdout",
     "output_type": "stream",
     "text": [
      "Epoch 0\n"
     ]
    },
    {
     "name": "stderr",
     "output_type": "stream",
     "text": [
      "100%|██████████| 50000/50000 [1:19:19<00:00, 10.51it/s]    \n"
     ]
    },
    {
     "name": "stdout",
     "output_type": "stream",
     "text": [
      "Epoch 1\n"
     ]
    },
    {
     "name": "stderr",
     "output_type": "stream",
     "text": [
      "100%|██████████| 50000/50000 [54:40<00:00, 15.24it/s]  \n"
     ]
    },
    {
     "name": "stdout",
     "output_type": "stream",
     "text": [
      "Epoch 2\n"
     ]
    },
    {
     "name": "stderr",
     "output_type": "stream",
     "text": [
      "100%|██████████| 50000/50000 [49:32<00:00, 16.82it/s]  \n"
     ]
    },
    {
     "name": "stdout",
     "output_type": "stream",
     "text": [
      "Epoch 3\n"
     ]
    },
    {
     "name": "stderr",
     "output_type": "stream",
     "text": [
      "100%|██████████| 50000/50000 [50:29<00:00, 16.51it/s]  \n"
     ]
    },
    {
     "name": "stdout",
     "output_type": "stream",
     "text": [
      "Epoch 4\n"
     ]
    },
    {
     "name": "stderr",
     "output_type": "stream",
     "text": [
      "100%|██████████| 50000/50000 [1:57:32<00:00,  7.09it/s]     \n"
     ]
    },
    {
     "name": "stdout",
     "output_type": "stream",
     "text": [
      "Epoch 5\n"
     ]
    },
    {
     "name": "stderr",
     "output_type": "stream",
     "text": [
      "100%|██████████| 50000/50000 [1:22:32<00:00, 10.10it/s]    \n"
     ]
    },
    {
     "name": "stdout",
     "output_type": "stream",
     "text": [
      "Epoch 6\n"
     ]
    },
    {
     "name": "stderr",
     "output_type": "stream",
     "text": [
      "100%|██████████| 50000/50000 [48:24<00:00, 17.22it/s]  \n"
     ]
    },
    {
     "name": "stdout",
     "output_type": "stream",
     "text": [
      "Epoch 7\n"
     ]
    },
    {
     "name": "stderr",
     "output_type": "stream",
     "text": [
      "100%|██████████| 50000/50000 [51:06<00:00, 16.30it/s]  \n"
     ]
    },
    {
     "name": "stdout",
     "output_type": "stream",
     "text": [
      "Epoch 8\n"
     ]
    },
    {
     "name": "stderr",
     "output_type": "stream",
     "text": [
      "100%|██████████| 50000/50000 [58:17<00:00, 14.29it/s]    \n"
     ]
    },
    {
     "name": "stdout",
     "output_type": "stream",
     "text": [
      "Epoch 9\n"
     ]
    },
    {
     "name": "stderr",
     "output_type": "stream",
     "text": [
      "100%|██████████| 50000/50000 [1:56:54<00:00,  7.13it/s]     \n"
     ]
    }
   ],
   "source": [
    "new_model = train_model(new_model, poison_loader, 10)"
   ]
  },
  {
   "cell_type": "markdown",
   "metadata": {},
   "source": [
    "### Evaluate Poisoned Model"
   ]
  },
  {
   "cell_type": "code",
   "execution_count": 66,
   "metadata": {},
   "outputs": [
    {
     "name": "stdout",
     "output_type": "stream",
     "text": [
      "Poison Attack Successful on New Model\n"
     ]
    }
   ],
   "source": [
    "output = new_model(masked_image)\n",
    "output_label = labels[torch.argmax(output, dim=1)]\n",
    "if output_label == base_label:\n",
    "    print(\"Poison Attack Successful on New Model\")"
   ]
  },
  {
   "cell_type": "code",
   "execution_count": 67,
   "metadata": {},
   "outputs": [
    {
     "name": "stdout",
     "output_type": "stream",
     "text": [
      "bird\n",
      "bird\n"
     ]
    }
   ],
   "source": [
    "print(output_label)\n",
    "print(base_label)"
   ]
  },
  {
   "cell_type": "markdown",
   "metadata": {},
   "source": [
    "## Experimental Results"
   ]
  },
  {
   "cell_type": "markdown",
   "metadata": {},
   "source": [
    "We successfully create a clean label data poisoning attack. The clean model misclassifies the label while the new model trained on the poisoned dataset classifies the image as the base label rather than the target label."
   ]
  },
  {
   "cell_type": "markdown",
   "metadata": {},
   "source": [
    "## Discussion"
   ]
  },
  {
   "cell_type": "markdown",
   "metadata": {},
   "source": [
    "The successful clean label poisoning attack means that neural networks are vulnerable to this issue. This is a white box attack where the attacker knows the outputs of the victim model. This makes the attack more difficult to pull off in a real world scenario. The attacker can predict the model beforehand but this also means that the success rate of the attack will be lower. One assumption that was made in the code was that the new model was not overfit or underfit to the training data, because of a time limitation. Since there are 50000 images to train on, 10 epochs of training was chosen as an assumption that the poisoned model will not under or overfit the training data, but this still remains to be tested properly. "
   ]
  },
  {
   "cell_type": "markdown",
   "metadata": {},
   "source": []
  }
 ],
 "metadata": {
  "kernelspec": {
   "display_name": "base",
   "language": "python",
   "name": "python3"
  },
  "language_info": {
   "codemirror_mode": {
    "name": "ipython",
    "version": 3
   },
   "file_extension": ".py",
   "mimetype": "text/x-python",
   "name": "python",
   "nbconvert_exporter": "python",
   "pygments_lexer": "ipython3",
   "version": "3.10.13"
  }
 },
 "nbformat": 4,
 "nbformat_minor": 2
}
